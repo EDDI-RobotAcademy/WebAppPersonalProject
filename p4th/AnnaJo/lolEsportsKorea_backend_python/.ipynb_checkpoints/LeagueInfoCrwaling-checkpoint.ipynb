{
 "cells": [
  {
   "cell_type": "code",
   "execution_count": 1,
   "id": "24061836",
   "metadata": {
    "pycharm": {
     "name": "#%%\n"
    }
   },
   "outputs": [],
   "source": [
    "import selenium\n",
    "from selenium import webdriver\n",
    "from selenium.webdriver.common.by import By"
   ]
  },
  {
   "cell_type": "code",
   "execution_count": 2,
   "id": "a4259453",
   "metadata": {
    "pycharm": {
     "name": "#%%\n"
    }
   },
   "outputs": [
    {
     "name": "stderr",
     "output_type": "stream",
     "text": [
      "C:\\Users\\user\\AppData\\Local\\Temp\\ipykernel_71700\\3175944217.py:1: DeprecationWarning: executable_path has been deprecated, please pass in a Service object\n",
      "  driver = webdriver.Chrome(r\"C:\\chromedriver.exe\")\n"
     ]
    }
   ],
   "source": [
    "driver = webdriver.Chrome(r\"C:\\chromedriver.exe\")"
   ]
  },
  {
   "cell_type": "code",
   "execution_count": 3,
   "id": "d25c94a9",
   "metadata": {
    "pycharm": {
     "name": "#%%\n"
    }
   },
   "outputs": [],
   "source": [
    "driver.quit()"
   ]
  },
  {
   "cell_type": "code",
   "execution_count": 4,
   "id": "9eb98a10",
   "metadata": {
    "pycharm": {
     "name": "#%%\n"
    }
   },
   "outputs": [
    {
     "name": "stderr",
     "output_type": "stream",
     "text": [
      "C:\\Users\\user\\AppData\\Local\\Temp\\ipykernel_71700\\1523096556.py:1: DeprecationWarning: executable_path has been deprecated, please pass in a Service object\n",
      "  driver = webdriver.Chrome(r\"C:\\chromedriver.exe\")\n"
     ]
    }
   ],
   "source": [
    "driver = webdriver.Chrome(r\"C:\\chromedriver.exe\")\n",
    "driver.get('https://game.naver.com/esports/League_of_Legends/schedule/world_championship?date=2022-10')"
   ]
  },
  {
   "cell_type": "code",
   "execution_count": 5,
   "id": "6f0f9abb",
   "metadata": {
    "pycharm": {
     "name": "#%%\n"
    }
   },
   "outputs": [
    {
     "name": "stdout",
     "output_type": "stream",
     "text": [
      "리그 오브 레전드 월드 챔피언십\n"
     ]
    }
   ],
   "source": [
    "leagueTitle = driver.find_element(By.XPATH,r'//*[@id=\"civ\"]/div/div/div/div[2]/div[2]/div[1]/div[2]/div/strong/span').text\n",
    "print(leagueTitle)"
   ]
  },
  {
   "cell_type": "code",
   "execution_count": 6,
   "id": "94603467",
   "metadata": {
    "pycharm": {
     "name": "#%%\n"
    }
   },
   "outputs": [],
   "source": [
    "# first date line : //*[@id=\"civ\"]/div/div/div/div[2]/div[2]/div[3]/div[2]/div\n",
    "# last date line : //*[@id=\"civ\"]/div/div/div/div[2]/div[2]/div[3]/div[20]/div"
   ]
  },
  {
   "cell_type": "code",
   "execution_count": 7,
   "id": "a1fa31e0",
   "metadata": {
    "pycharm": {
     "name": "#%%\n"
    }
   },
   "outputs": [],
   "source": [
    "leagueDate_list = []\n",
    "\n",
    "for i in range(2,21):\n",
    "    leagueDate = driver.find_element(By.XPATH,r'//*[@id=\"civ\"]/div/div/div/div[2]/div[2]/div[3]/div['+str(i)+']/div').text\n",
    "    leagueDate_list.append(leagueDate)\n",
    "    "
   ]
  },
  {
   "cell_type": "code",
   "execution_count": 8,
   "id": "b6939d59",
   "metadata": {
    "pycharm": {
     "name": "#%%\n"
    }
   },
   "outputs": [
    {
     "data": {
      "text/plain": [
       "['10월 01일 (토)',\n",
       " '10월 02일 (일)',\n",
       " '10월 03일 (월)',\n",
       " '10월 04일 (화)',\n",
       " '10월 05일 (수)',\n",
       " '10월 08일 (토)',\n",
       " '10월 09일 (일)',\n",
       " '10월 10일 (월)',\n",
       " '10월 11일 (화)',\n",
       " '10월 14일 (금)',\n",
       " '10월 15일 (토)',\n",
       " '10월 16일 (일)',\n",
       " '10월 17일 (월)',\n",
       " '10월 21일 (금)',\n",
       " '10월 22일 (토)',\n",
       " '10월 23일 (일)',\n",
       " '10월 24일 (월)',\n",
       " '10월 30일 (일)',\n",
       " '10월 31일 (월)']"
      ]
     },
     "execution_count": 8,
     "metadata": {},
     "output_type": "execute_result"
    }
   ],
   "source": [
    "leagueDate_list"
   ]
  },
  {
   "cell_type": "code",
   "execution_count": 9,
   "id": "75b43720",
   "metadata": {
    "pycharm": {
     "name": "#%%\n"
    }
   },
   "outputs": [],
   "source": [
    "# first block Xpath : //*[@id=\"civ\"]/div/div/div/div[2]/div[2]/div[3]/div[2]/ul\n",
    "# last block  Xpath : //*[@id=\"civ\"]/div/div/div/div[2]/div[2]/div[3]/div[20]/ul"
   ]
  },
  {
   "cell_type": "code",
   "execution_count": 84,
   "id": "f37e1d31",
   "metadata": {
    "pycharm": {
     "name": "#%%\n"
    },
    "scrolled": true
   },
   "outputs": [
    {
     "name": "stdout",
     "output_type": "stream",
     "text": [
      "['리그 오브 레전드 월드 챔피언십', '10월 01일 (토)', '05:00', '종료', '플레이인', 'Fnatic', '1', '0', 'DetonatioN FocusMe', '리그 오브 레전드 월드 챔피언십', '10월 01일 (토)', '', '06:00', '종료', '플레이인', 'Evil Geniuses', '1', '0', 'LOUD', '리그 오브 레전드 월드 챔피언십', '10월 01일 (토)', '', '07:00', '종료', '플레이인', 'Saigon Buffalo', '1', '0', 'Isurus Gaming', '리그 오브 레전드 월드 챔피언십', '10월 01일 (토)', '', '08:00', '종료', '플레이인', 'DetonatioN FocusMe', '1', '0', 'Chiefs Esports Club', '리그 오브 레전드 월드 챔피언십', '10월 01일 (토)', '', '09:00', '종료', '플레이인', 'Evil Geniuses', '1', '0', 'Beyond Gaming', '리그 오브 레전드 월드 챔피언십', '10월 01일 (토)', '', '10:00', '종료', '플레이인', 'DRX', '1', '0', 'Saigon Buffalo', '리그 오브 레전드 월드 챔피언십', '10월 01일 (토)', '', '11:00', '종료', '플레이인', 'MAD Lions', '0', '1', 'Royal Never Give Up', '리그 오브 레전드 월드 챔피언십', '10월 01일 (토)', '', '12:00', '종료', '플레이인', 'istanbul Wildcats', '0', '1', 'DRX', '리그 오브 레전드 월드 챔피언십', '10월 02일 (일)', '05:00', '종료', '플레이인', 'LOUD', '1', '0', 'Fnatic', '리그 오브 레전드 월드 챔피언십', '10월 02일 (일)', '', '06:00', '종료', '플레이인', 'MAD Lions', '1', '0', 'Saigon Buffalo', '리그 오브 레전드 월드 챔피언십', '10월 02일 (일)', '', '07:00', '종료', '플레이인', 'Beyond Gaming', '0', '1', 'DetonatioN FocusMe', '리그 오브 레전드 월드 챔피언십', '10월 02일 (일)', '', '08:00', '종료', '플레이인', 'Evil Geniuses', '1', '0', 'Chiefs Esports Club', '리그 오브 레전드 월드 챔피언십', '10월 02일 (일)', '', '09:00', '종료', '플레이인', 'Royal Never Give Up', '1', '0', 'Isurus Gaming', '리그 오브 레전드 월드 챔피언십', '10월 02일 (일)', '', '10:00', '종료', '플레이인', 'Chiefs Esports Club', '0', '1', 'Beyond Gaming', '리그 오브 레전드 월드 챔피언십', '10월 02일 (일)', '', '11:00', '종료', '플레이인', 'Royal Never Give Up', '1', '0', 'istanbul Wildcats', '리그 오브 레전드 월드 챔피언십', '10월 02일 (일)', '', '12:00', '종료', '플레이인', 'Isurus Gaming', '0', '1', 'DRX', '리그 오브 레전드 월드 챔피언십', '10월 03일 (월)', '05:00', '종료', '플레이인', 'Beyond Gaming', '0', '1', 'Fnatic', '리그 오브 레전드 월드 챔피언십', '10월 03일 (월)', '', '06:00', '종료', '플레이인', 'LOUD', '1', '0', 'Chiefs Esports Club', '리그 오브 레전드 월드 챔피언십', '10월 03일 (월)', '', '07:00', '종료', '플레이인', 'DetonatioN FocusMe', '1', '0', 'Evil Geniuses', '리그 오브 레전드 월드 챔피언십', '10월 03일 (월)', '', '08:00', '종료', '플레이인', 'istanbul Wildcats', '0', '1', 'Isurus Gaming', '리그 오브 레전드 월드 챔피언십', '10월 03일 (월)', '', '09:00', '종료', '플레이인', 'DRX', '1', '0', 'MAD Lions', '리그 오브 레전드 월드 챔피언십', '10월 03일 (월)', '', '10:00', '종료', '플레이인', 'Royal Never Give Up', '1', '0', 'Saigon Buffalo', '리그 오브 레전드 월드 챔피언십', '10월 03일 (월)', '', '11:00', '종료', '타이브레이커', 'Evil Geniuses', '1', '0', 'DetonatioN FocusMe', '리그 오브 레전드 월드 챔피언십', '10월 03일 (월)', '', '12:00', '종료', '타이브레이커', 'LOUD', '0', '1', 'Evil Geniuses', '리그 오브 레전드 월드 챔피언십', '10월 04일 (화)', '03:00', '종료', '플레이인 녹아웃', 'Saigon Buffalo', '1', '3', 'MAD Lions', '리그 오브 레전드 월드 챔피언십', '10월 04일 (화)', '', '08:00', '종료', '플레이인 녹아웃', 'LOUD', '1', '3', 'DetonatioN FocusMe', '리그 오브 레전드 월드 챔피언십', '10월 05일 (수)', '03:00', '종료', '플레이인 녹아웃', 'Evil Geniuses', '3', '0', 'MAD Lions', '리그 오브 레전드 월드 챔피언십', '10월 05일 (수)', '', '08:00', '종료', '플레이인 녹아웃', 'Royal Never Give Up', '3', '1', 'DetonatioN FocusMe', '리그 오브 레전드 월드 챔피언십', '10월 08일 (토)', '06:00', '종료', '그룹스테이지', 'Cloud9', '0', '1', 'Fnatic', '리그 오브 레전드 월드 챔피언십', '10월 08일 (토)', '', '07:00', '종료', '그룹스테이지', 'G2 Esports', '0', '1', '담원 기아', '리그 오브 레전드 월드 챔피언십', '10월 08일 (토)', '', '08:00', '종료', '그룹스테이지', 'CTBC Flying Oyster', '1', '0', '100 Thieves', '리그 오브 레전드 월드 챔피언십', '10월 08일 (토)', '', '09:00', '종료', '그룹스테이지', 'JD Gaming', '1', '0', 'Evil Geniuses', '리그 오브 레전드 월드 챔피언십', '10월 08일 (토)', '', '10:00', '종료', '그룹스테이지', 'T1', '1', '0', 'Edward Gaming', '리그 오브 레전드 월드 챔피언십', '10월 08일 (토)', '', '11:00', '종료', '그룹스테이지', '젠지', '0', '1', 'Royal Never Give Up', '리그 오브 레전드 월드 챔피언십', '10월 09일 (일)', '06:00', '종료', '그룹스테이지', 'Rogue', '1', '0', 'DRX', '리그 오브 레전드 월드 챔피언십', '10월 09일 (일)', '', '07:00', '종료', '그룹스테이지', 'Evil Geniuses', '0', '1', 'G2 Esports', '리그 오브 레전드 월드 챔피언십', '10월 09일 (일)', '', '08:00', '종료', '그룹스테이지', 'Fnatic', '1', '0', 'T1', '리그 오브 레전드 월드 챔피언십', '10월 09일 (일)', '', '09:00', '종료', '그룹스테이지', 'Edward Gaming', '1', '0', 'Cloud9', '리그 오브 레전드 월드 챔피언십', '10월 09일 (일)', '', '10:00', '종료', '그룹스테이지', 'Top Esports', '1', '0', 'GAM eSports', '리그 오브 레전드 월드 챔피언십', '10월 09일 (일)', '', '11:00', '종료', '그룹스테이지', '담원 기아', '0', '1', 'JD Gaming', '리그 오브 레전드 월드 챔피언십', '10월 10일 (월)', '06:00', '종료', '그룹스테이지', 'GAM eSports', '0', '1', 'Rogue', '리그 오브 레전드 월드 챔피언십', '10월 10일 (월)', '', '07:00', '종료', '그룹스테이지', '100 Thieves', '0', '1', '젠지', '리그 오브 레전드 월드 챔피언십', '10월 10일 (월)', '', '08:00', '종료', '그룹스테이지', 'Edward Gaming', '1', '0', 'Fnatic', '리그 오브 레전드 월드 챔피언십', '10월 10일 (월)', '', '09:00', '종료', '그룹스테이지', 'Cloud9', '0', '1', 'T1', '리그 오브 레전드 월드 챔피언십', '10월 10일 (월)', '', '10:00', '종료', '그룹스테이지', 'Royal Never Give Up', '1', '0', 'CTBC Flying Oyster', '리그 오브 레전드 월드 챔피언십', '10월 10일 (월)', '', '11:00', '종료', '그룹스테이지', 'DRX', '1', '0', 'Top Esports', '리그 오브 레전드 월드 챔피언십', '10월 11일 (화)', '06:00', '종료', '그룹스테이지', 'JD Gaming', '1', '0', 'G2 Esports', '리그 오브 레전드 월드 챔피언십', '10월 11일 (화)', '', '07:00', '종료', '그룹스테이지', 'Rogue', '1', '0', 'Top Esports', '리그 오브 레전드 월드 챔피언십', '10월 11일 (화)', '', '08:00', '종료', '그룹스테이지', '담원 기아', '1', '0', 'Evil Geniuses', '리그 오브 레전드 월드 챔피언십', '10월 11일 (화)', '', '09:00', '종료', '그룹스테이지', '100 Thieves', '0', '1', 'Royal Never Give Up', '리그 오브 레전드 월드 챔피언십', '10월 11일 (화)', '', '10:00', '종료', '그룹스테이지', '젠지', '1', '0', 'CTBC Flying Oyster', '리그 오브 레전드 월드 챔피언십', '10월 11일 (화)', '', '11:00', '종료', '그룹스테이지', 'GAM eSports', '0', '1', 'DRX', '리그 오브 레전드 월드 챔피언십', '10월 14일 (금)', '04:00', '종료', '그룹스테이지', 'Fnatic', '0', '1', 'Cloud9', '리그 오브 레전드 월드 챔피언십', '10월 14일 (금)', '', '05:00', '종료', '그룹스테이지', 'T1', '1', '0', 'Fnatic', '리그 오브 레전드 월드 챔피언십', '10월 14일 (금)', '', '06:00', '종료', '그룹스테이지', 'Cloud9', '0', '1', 'Edward Gaming', '리그 오브 레전드 월드 챔피언십', '10월 14일 (금)', '', '07:00', '종료', '그룹스테이지', 'Fnatic', '0', '1', 'Edward Gaming', '리그 오브 레전드 월드 챔피언십', '10월 14일 (금)', '', '08:00', '종료', '그룹스테이지', 'T1', '1', '0', 'Cloud9', '리그 오브 레전드 월드 챔피언십', '10월 14일 (금)', '', '09:00', '종료', '그룹스테이지', 'Edward Gaming', '0', '1', 'T1', '리그 오브 레전드 월드 챔피언십', '10월 15일 (토)', '04:00', '종료', '그룹스테이지', 'G2 Esports', '0', '1', 'Evil Geniuses', '리그 오브 레전드 월드 챔피언십', '10월 15일 (토)', '', '05:00', '종료', '그룹스테이지', 'Evil Geniuses', '0', '1', 'JD Gaming', '리그 오브 레전드 월드 챔피언십', '10월 15일 (토)', '', '06:00', '종료', '그룹스테이지', '담원 기아', '1', '0', 'G2 Esports', '리그 오브 레전드 월드 챔피언십', '10월 15일 (토)', '', '07:00', '종료', '그룹스테이지', 'G2 Esports', '0', '1', 'JD Gaming', '리그 오브 레전드 월드 챔피언십', '10월 15일 (토)', '', '08:00', '종료', '그룹스테이지', 'Evil Geniuses', '0', '1', '담원 기아', '리그 오브 레전드 월드 챔피언십', '10월 15일 (토)', '', '09:00', '종료', '그룹스테이지', 'JD Gaming', '0', '1', '담원 기아', '리그 오브 레전드 월드 챔피언십', '10월 15일 (토)', '', '10:00', '종료', '타이브레이커', '담원 기아', '0', '1', 'JD Gaming', '리그 오브 레전드 월드 챔피언십', '10월 16일 (일)', '04:00', '종료', '그룹스테이지', 'Rogue', '1', '0', 'GAM eSports', '리그 오브 레전드 월드 챔피언십', '10월 16일 (일)', '', '05:00', '종료', '그룹스테이지', 'GAM eSports', '1', '0', 'Top Esports', '리그 오브 레전드 월드 챔피언십', '10월 16일 (일)', '', '06:00', '종료', '그룹스테이지', 'DRX', '1', '0', 'Rogue', '리그 오브 레전드 월드 챔피언십', '10월 16일 (일)', '', '07:00', '종료', '그룹스테이지', 'DRX', '1', '0', 'GAM eSports', '리그 오브 레전드 월드 챔피언십', '10월 16일 (일)', '', '08:00', '종료', '그룹스테이지', 'Top Esports', '1', '0', 'Rogue', '리그 오브 레전드 월드 챔피언십', '10월 16일 (일)', '', '09:00', '종료', '그룹스테이지', 'Top Esports', '1', '0', 'DRX', '리그 오브 레전드 월드 챔피언십', '10월 16일 (일)', '', '10:00', '종료', '타이브레이커', 'DRX', '1', '0', 'Rogue', '리그 오브 레전드 월드 챔피언십', '10월 17일 (월)', '04:00', '종료', '그룹스테이지', '100 Thieves', '1', '0', 'CTBC Flying Oyster', '리그 오브 레전드 월드 챔피언십', '10월 17일 (월)', '', '05:00', '종료', '그룹스테이지', 'CTBC Flying Oyster', '0', '1', '젠지', '리그 오브 레전드 월드 챔피언십', '10월 17일 (월)', '', '06:00', '종료', '그룹스테이지', 'Royal Never Give Up', '1', '0', '100 Thieves', '리그 오브 레전드 월드 챔피언십', '10월 17일 (월)', '', '07:00', '종료', '그룹스테이지', '젠지', '1', '0', '100 Thieves', '리그 오브 레전드 월드 챔피언십', '10월 17일 (월)', '', '08:00', '종료', '그룹스테이지', 'CTBC Flying Oyster', '0', '1', 'Royal Never Give Up', '리그 오브 레전드 월드 챔피언십', '10월 17일 (월)', '', '09:00', '종료', '그룹스테이지', 'Royal Never Give Up', '0', '1', '젠지', '리그 오브 레전드 월드 챔피언십', '10월 17일 (월)', '', '10:00', '종료', '타이브레이커', '젠지', '1', '0', 'Royal Never Give Up', '리그 오브 레전드 월드 챔피언십', '10월 21일 (금)', '06:00', '종료', '8강', 'JD Gaming', '3', '0', 'Rogue', '리그 오브 레전드 월드 챔피언십', '10월 22일 (토)', '06:00', '종료', '8강', 'T1', '3', '0', 'Royal Never Give Up', '리그 오브 레전드 월드 챔피언십', '10월 23일 (일)', '06:00', '종료', '8강', '젠지', '3', '2', '담원 기아', '리그 오브 레전드 월드 챔피언십', '10월 24일 (월)', '06:00', '종료', '8강', 'DRX', '3', '2', 'Edward Gaming', '리그 오브 레전드 월드 챔피언십', '10월 30일 (일)', '06:00', '종료', '4강', 'JD Gaming', '1', '3', 'T1', '리그 오브 레전드 월드 챔피언십', '10월 31일 (월)', '06:00', '종료', '4강', '젠지', '1', '3', 'DRX']\n"
     ]
    }
   ],
   "source": [
    "leagueInfoBolck_list = []\n",
    "leagueInfoLine_list = []\n",
    "finalLeagueInfoLine_list = []\n",
    "\n",
    "# 날짜로 묶인 info block 저장 / i는 19개 (0~19)\n",
    "for i in range(2,21):\n",
    "    leagueInfo = driver.find_element(By.XPATH,r'//*[@id=\"civ\"]/div/div/div/div[2]/div[2]/div[3]/div['+str(i)+']/ul').text\n",
    "        \n",
    "    if leagueInfo == 'null':\n",
    "        break\n",
    "    \n",
    "    leagueInfoBolck_list.append(leagueInfo.split(\"\\n다시보기\"))\n",
    "    # 0번째에선 일정 8개 [[],[],[],[],[],[],[],[]], -> 마지막에 ''담겨서 +1됨\n",
    "    # print(len(leagueInfoBolck_list[i-2]))\n",
    "\n",
    "    # 비어있는 인덱스 제거하고 새로운 리스트에 담기 \n",
    "    for j in range(len(leagueInfoBolck_list[i-2])):\n",
    "        # 저장 후에 leagueInfoLine_list 비워주기\n",
    "        leagueInfoLine_list.clear()\n",
    "        \n",
    "        # block 빈 값 \n",
    "        if leagueInfoBolck_list[i-2][j] == '' :\n",
    "            break\n",
    "            \n",
    "        leagueInfoLine_list.append(leagueTitle)\n",
    "        leagueInfoLine_list.append(leagueDate_list[i-2])\n",
    "        splitResult = leagueInfoBolck_list[i-2][j]\n",
    "        leagueInfoLine_list.extend(splitResult.split(\"\\n\"))\n",
    "        finalLeagueInfoLine_list.extend(leagueInfoLine_list)\n",
    "        #print(leagueInfoLine_list)\n",
    "         \n",
    "print(finalLeagueInfoLine_list)"
   ]
  },
  {
   "cell_type": "code",
   "execution_count": 87,
   "id": "de9689a1",
   "metadata": {
    "pycharm": {
     "name": "#%%\n"
    },
    "scrolled": true
   },
   "outputs": [
    {
     "name": "stdout",
     "output_type": "stream",
     "text": [
      "['리그 오브 레전드 월드 챔피언십', '리그 오브 레전드 월드 챔피언십', '리그 오브 레전드 월드 챔피언십', '리그 오브 레전드 월드 챔피언십', '리그 오브 레전드 월드 챔피언십', '리그 오브 레전드 월드 챔피언십', '리그 오브 레전드 월드 챔피언십', '리그 오브 레전드 월드 챔피언십', '리그 오브 레전드 월드 챔피언십', '리그 오브 레전드 월드 챔피언십', '리그 오브 레전드 월드 챔피언십', '리그 오브 레전드 월드 챔피언십', '리그 오브 레전드 월드 챔피언십', '리그 오브 레전드 월드 챔피언십', '리그 오브 레전드 월드 챔피언십', '리그 오브 레전드 월드 챔피언십', '리그 오브 레전드 월드 챔피언십', '리그 오브 레전드 월드 챔피언십', '리그 오브 레전드 월드 챔피언십', '리그 오브 레전드 월드 챔피언십', '리그 오브 레전드 월드 챔피언십', '리그 오브 레전드 월드 챔피언십', '리그 오브 레전드 월드 챔피언십', '리그 오브 레전드 월드 챔피언십', '리그 오브 레전드 월드 챔피언십', '리그 오브 레전드 월드 챔피언십', '리그 오브 레전드 월드 챔피언십', '리그 오브 레전드 월드 챔피언십', '리그 오브 레전드 월드 챔피언십', '리그 오브 레전드 월드 챔피언십', '리그 오브 레전드 월드 챔피언십', '리그 오브 레전드 월드 챔피언십', '리그 오브 레전드 월드 챔피언십', '리그 오브 레전드 월드 챔피언십', '리그 오브 레전드 월드 챔피언십', '리그 오브 레전드 월드 챔피언십', '리그 오브 레전드 월드 챔피언십', '리그 오브 레전드 월드 챔피언십', '리그 오브 레전드 월드 챔피언십', '리그 오브 레전드 월드 챔피언십', '리그 오브 레전드 월드 챔피언십', '리그 오브 레전드 월드 챔피언십', '리그 오브 레전드 월드 챔피언십', '리그 오브 레전드 월드 챔피언십', '리그 오브 레전드 월드 챔피언십', '리그 오브 레전드 월드 챔피언십', '리그 오브 레전드 월드 챔피언십', '리그 오브 레전드 월드 챔피언십', '리그 오브 레전드 월드 챔피언십', '리그 오브 레전드 월드 챔피언십', '리그 오브 레전드 월드 챔피언십', '리그 오브 레전드 월드 챔피언십', '리그 오브 레전드 월드 챔피언십', '리그 오브 레전드 월드 챔피언십', '리그 오브 레전드 월드 챔피언십', '리그 오브 레전드 월드 챔피언십', '리그 오브 레전드 월드 챔피언십', '리그 오브 레전드 월드 챔피언십', '리그 오브 레전드 월드 챔피언십', '리그 오브 레전드 월드 챔피언십', '리그 오브 레전드 월드 챔피언십', '리그 오브 레전드 월드 챔피언십', '리그 오브 레전드 월드 챔피언십', '리그 오브 레전드 월드 챔피언십', '리그 오브 레전드 월드 챔피언십', '리그 오브 레전드 월드 챔피언십', '리그 오브 레전드 월드 챔피언십', '리그 오브 레전드 월드 챔피언십', '리그 오브 레전드 월드 챔피언십', '리그 오브 레전드 월드 챔피언십', '리그 오브 레전드 월드 챔피언십', '리그 오브 레전드 월드 챔피언십', '리그 오브 레전드 월드 챔피언십', '리그 오브 레전드 월드 챔피언십', '리그 오브 레전드 월드 챔피언십', '리그 오브 레전드 월드 챔피언십', '리그 오브 레전드 월드 챔피언십', '리그 오브 레전드 월드 챔피언십', '리그 오브 레전드 월드 챔피언십', '리그 오브 레전드 월드 챔피언십', '리그 오브 레전드 월드 챔피언십', '리그 오브 레전드 월드 챔피언십', '리그 오브 레전드 월드 챔피언십', '리그 오브 레전드 월드 챔피언십', '리그 오브 레전드 월드 챔피언십']\n",
      "['10월 01일 (토)', '10월 01일 (토)', '10월 01일 (토)', '10월 01일 (토)', '10월 01일 (토)', '10월 01일 (토)', '10월 01일 (토)', '10월 01일 (토)', '10월 02일 (일)', '10월 02일 (일)', '10월 02일 (일)', '10월 02일 (일)', '10월 02일 (일)', '10월 02일 (일)', '10월 02일 (일)', '10월 02일 (일)', '10월 03일 (월)', '10월 03일 (월)', '10월 03일 (월)', '10월 03일 (월)', '10월 03일 (월)', '10월 03일 (월)', '10월 03일 (월)', '10월 03일 (월)', '10월 04일 (화)', '10월 04일 (화)', '10월 05일 (수)', '10월 05일 (수)', '10월 08일 (토)', '10월 08일 (토)', '10월 08일 (토)', '10월 08일 (토)', '10월 08일 (토)', '10월 08일 (토)', '10월 09일 (일)', '10월 09일 (일)', '10월 09일 (일)', '10월 09일 (일)', '10월 09일 (일)', '10월 09일 (일)', '10월 10일 (월)', '10월 10일 (월)', '10월 10일 (월)', '10월 10일 (월)', '10월 10일 (월)', '10월 10일 (월)', '10월 11일 (화)', '10월 11일 (화)', '10월 11일 (화)', '10월 11일 (화)', '10월 11일 (화)', '10월 11일 (화)', '10월 14일 (금)', '10월 14일 (금)', '10월 14일 (금)', '10월 14일 (금)', '10월 14일 (금)', '10월 14일 (금)', '10월 15일 (토)', '10월 15일 (토)', '10월 15일 (토)', '10월 15일 (토)', '10월 15일 (토)', '10월 15일 (토)', '10월 15일 (토)', '10월 16일 (일)', '10월 16일 (일)', '10월 16일 (일)', '10월 16일 (일)', '10월 16일 (일)', '10월 16일 (일)', '10월 16일 (일)', '10월 17일 (월)', '10월 17일 (월)', '10월 17일 (월)', '10월 17일 (월)', '10월 17일 (월)', '10월 17일 (월)', '10월 17일 (월)', '10월 21일 (금)', '10월 22일 (토)', '10월 23일 (일)', '10월 24일 (월)', '10월 30일 (일)', '10월 31일 (월)']\n",
      "['05:00', '06:00', '07:00', '08:00', '09:00', '10:00', '11:00', '12:00', '05:00', '06:00', '07:00', '08:00', '09:00', '10:00', '11:00', '12:00', '05:00', '06:00', '07:00', '08:00', '09:00', '10:00', '11:00', '12:00', '03:00', '08:00', '03:00', '08:00', '06:00', '07:00', '08:00', '09:00', '10:00', '11:00', '06:00', '07:00', '08:00', '09:00', '10:00', '11:00', '06:00', '07:00', '08:00', '09:00', '10:00', '11:00', '06:00', '07:00', '08:00', '09:00', '10:00', '11:00', '04:00', '05:00', '06:00', '07:00', '08:00', '09:00', '04:00', '05:00', '06:00', '07:00', '08:00', '09:00', '10:00', '04:00', '05:00', '06:00', '07:00', '08:00', '09:00', '10:00', '04:00', '05:00', '06:00', '07:00', '08:00', '09:00', '10:00', '06:00', '06:00', '06:00', '06:00', '06:00', '06:00']\n",
      "['종료', '종료', '종료', '종료', '종료', '종료', '종료', '종료', '종료', '종료', '종료', '종료', '종료', '종료', '종료', '종료', '종료', '종료', '종료', '종료', '종료', '종료', '종료', '종료', '종료', '종료', '종료', '종료', '종료', '종료', '종료', '종료', '종료', '종료', '종료', '종료', '종료', '종료', '종료', '종료', '종료', '종료', '종료', '종료', '종료', '종료', '종료', '종료', '종료', '종료', '종료', '종료', '종료', '종료', '종료', '종료', '종료', '종료', '종료', '종료', '종료', '종료', '종료', '종료', '종료', '종료', '종료', '종료', '종료', '종료', '종료', '종료', '종료', '종료', '종료', '종료', '종료', '종료', '종료', '종료', '종료', '종료', '종료', '종료', '종료']\n",
      "['플레이인', '플레이인', '플레이인', '플레이인', '플레이인', '플레이인', '플레이인', '플레이인', '플레이인', '플레이인', '플레이인', '플레이인', '플레이인', '플레이인', '플레이인', '플레이인', '플레이인', '플레이인', '플레이인', '플레이인', '플레이인', '플레이인', '타이브레이커', '타이브레이커', '플레이인 녹아웃', '플레이인 녹아웃', '플레이인 녹아웃', '플레이인 녹아웃', '그룹스테이지', '그룹스테이지', '그룹스테이지', '그룹스테이지', '그룹스테이지', '그룹스테이지', '그룹스테이지', '그룹스테이지', '그룹스테이지', '그룹스테이지', '그룹스테이지', '그룹스테이지', '그룹스테이지', '그룹스테이지', '그룹스테이지', '그룹스테이지', '그룹스테이지', '그룹스테이지', '그룹스테이지', '그룹스테이지', '그룹스테이지', '그룹스테이지', '그룹스테이지', '그룹스테이지', '그룹스테이지', '그룹스테이지', '그룹스테이지', '그룹스테이지', '그룹스테이지', '그룹스테이지', '그룹스테이지', '그룹스테이지', '그룹스테이지', '그룹스테이지', '그룹스테이지', '그룹스테이지', '타이브레이커', '그룹스테이지', '그룹스테이지', '그룹스테이지', '그룹스테이지', '그룹스테이지', '그룹스테이지', '타이브레이커', '그룹스테이지', '그룹스테이지', '그룹스테이지', '그룹스테이지', '그룹스테이지', '그룹스테이지', '타이브레이커', '8강', '8강', '8강', '8강', '4강', '4강']\n",
      "['Fnatic', 'Evil Geniuses', 'Saigon Buffalo', 'DetonatioN FocusMe', 'Evil Geniuses', 'DRX', 'MAD Lions', 'istanbul Wildcats', 'LOUD', 'MAD Lions', 'Beyond Gaming', 'Evil Geniuses', 'Royal Never Give Up', 'Chiefs Esports Club', 'Royal Never Give Up', 'Isurus Gaming', 'Beyond Gaming', 'LOUD', 'DetonatioN FocusMe', 'istanbul Wildcats', 'DRX', 'Royal Never Give Up', 'Evil Geniuses', 'LOUD', 'Saigon Buffalo', 'LOUD', 'Evil Geniuses', 'Royal Never Give Up', 'Cloud9', 'G2 Esports', 'CTBC Flying Oyster', 'JD Gaming', 'T1', '젠지', 'Rogue', 'Evil Geniuses', 'Fnatic', 'Edward Gaming', 'Top Esports', '담원 기아', 'GAM eSports', '100 Thieves', 'Edward Gaming', 'Cloud9', 'Royal Never Give Up', 'DRX', 'JD Gaming', 'Rogue', '담원 기아', '100 Thieves', '젠지', 'GAM eSports', 'Fnatic', 'T1', 'Cloud9', 'Fnatic', 'T1', 'Edward Gaming', 'G2 Esports', 'Evil Geniuses', '담원 기아', 'G2 Esports', 'Evil Geniuses', 'JD Gaming', '담원 기아', 'Rogue', 'GAM eSports', 'DRX', 'DRX', 'Top Esports', 'Top Esports', 'DRX', '100 Thieves', 'CTBC Flying Oyster', 'Royal Never Give Up', '젠지', 'CTBC Flying Oyster', 'Royal Never Give Up', '젠지', 'JD Gaming', 'T1', '젠지', 'DRX', 'JD Gaming', '젠지']\n",
      "['1', '1', '1', '1', '1', '1', '0', '0', '1', '1', '0', '1', '1', '0', '1', '0', '0', '1', '1', '0', '1', '1', '1', '0', '1', '1', '3', '3', '0', '0', '1', '1', '1', '0', '1', '0', '1', '1', '1', '0', '0', '0', '1', '0', '1', '1', '1', '1', '1', '0', '1', '0', '0', '1', '0', '0', '1', '0', '0', '0', '1', '0', '0', '0', '0', '1', '1', '1', '1', '1', '1', '1', '1', '0', '1', '1', '0', '0', '1', '3', '3', '3', '3', '1', '1']\n",
      "['0', '0', '0', '0', '0', '0', '1', '1', '0', '0', '1', '0', '0', '1', '0', '1', '1', '0', '0', '1', '0', '0', '0', '1', '3', '3', '0', '1', '1', '1', '0', '0', '0', '1', '0', '1', '0', '0', '0', '1', '1', '1', '0', '1', '0', '0', '0', '0', '0', '1', '0', '1', '1', '0', '1', '1', '0', '1', '1', '1', '0', '1', '1', '1', '1', '0', '0', '0', '0', '0', '0', '0', '0', '1', '0', '0', '1', '1', '0', '0', '0', '2', '2', '3', '3']\n",
      "['DetonatioN FocusMe', 'LOUD', 'Isurus Gaming', 'Chiefs Esports Club', 'Beyond Gaming', 'Saigon Buffalo', 'Royal Never Give Up', 'DRX', 'Fnatic', 'Saigon Buffalo', 'DetonatioN FocusMe', 'Chiefs Esports Club', 'Isurus Gaming', 'Beyond Gaming', 'istanbul Wildcats', 'DRX', 'Fnatic', 'Chiefs Esports Club', 'Evil Geniuses', 'Isurus Gaming', 'MAD Lions', 'Saigon Buffalo', 'DetonatioN FocusMe', 'Evil Geniuses', 'MAD Lions', 'DetonatioN FocusMe', 'MAD Lions', 'DetonatioN FocusMe', 'Fnatic', '담원 기아', '100 Thieves', 'Evil Geniuses', 'Edward Gaming', 'Royal Never Give Up', 'DRX', 'G2 Esports', 'T1', 'Cloud9', 'GAM eSports', 'JD Gaming', 'Rogue', '젠지', 'Fnatic', 'T1', 'CTBC Flying Oyster', 'Top Esports', 'G2 Esports', 'Top Esports', 'Evil Geniuses', 'Royal Never Give Up', 'CTBC Flying Oyster', 'DRX', 'Cloud9', 'Fnatic', 'Edward Gaming', 'Edward Gaming', 'Cloud9', 'T1', 'Evil Geniuses', 'JD Gaming', 'G2 Esports', 'JD Gaming', '담원 기아', '담원 기아', 'JD Gaming', 'GAM eSports', 'Top Esports', 'Rogue', 'GAM eSports', 'Rogue', 'DRX', 'Rogue', 'CTBC Flying Oyster', '젠지', '100 Thieves', '100 Thieves', 'Royal Never Give Up', '젠지', 'Royal Never Give Up', 'Rogue', 'Royal Never Give Up', '담원 기아', 'Edward Gaming', 'T1', 'DRX']\n"
     ]
    }
   ],
   "source": [
    "Title_list = []\n",
    "Date_list = []\n",
    "Time_list = []\n",
    "gameState_list = []\n",
    "gameTitle_list = []\n",
    "homeTeamName_list = []\n",
    "homeTeamScore_list = []\n",
    "awayTeamScore_list = []\n",
    "awayTeamName_list = []\n",
    "\n",
    "listLength = len(finalLeagueInfoLine_list)\n",
    "\n",
    "for i in range(len(finalLeagueInfoLine_list)):\n",
    "    \n",
    "    ## '' 공백 들어가있는 것 제거\n",
    "    if finalLeagueInfoLine_list[i] == '':\n",
    "        finalLeagueInfoLine_list.pop(i)   \n",
    "\n",
    "for i in range(0, listLength, 9):\n",
    "    Title_list.append(finalLeagueInfoLine_list[i])\n",
    "    \n",
    "for i in range(1, listLength, 9):\n",
    "    Date_list.append(finalLeagueInfoLine_list[i])\n",
    "    \n",
    "for i in range(2, listLength, 9):\n",
    "    Time_list.append(finalLeagueInfoLine_list[i])    \n",
    "\n",
    "for i in range(3, listLength, 9):\n",
    "    gameState_list.append(finalLeagueInfoLine_list[i])  \n",
    "    \n",
    "for i in range(4, listLength, 9):\n",
    "    gameTitle_list.append(finalLeagueInfoLine_list[i])      \n",
    "        \n",
    "for i in range(5, listLength, 9):\n",
    "    homeTeamName_list.append(finalLeagueInfoLine_list[i])  \n",
    "        \n",
    "for i in range(6, listLength, 9):\n",
    "    homeTeamScore_list.append(finalLeagueInfoLine_list[i])      \n",
    "        \n",
    "for i in range(7, listLength, 9):\n",
    "    awayTeamScore_list.append(finalLeagueInfoLine_list[i])   \n",
    "        \n",
    "for i in range(8, listLength, 9):\n",
    "    awayTeamName_list.append(finalLeagueInfoLine_list[i])  \n",
    "    \n",
    "print(Title_list)\n",
    "print(Date_list)\n",
    "print(Time_list)\n",
    "print(gameState_list)\n",
    "print(gameTitle_list)\n",
    "print(homeTeamName_list)\n",
    "print(homeTeamScore_list)\n",
    "print(awayTeamScore_list)\n",
    "print(awayTeamName_list)"
   ]
  },
  {
   "cell_type": "code",
   "execution_count": 89,
   "id": "d9935316",
   "metadata": {
    "pycharm": {
     "name": "#%%\n"
    }
   },
   "outputs": [],
   "source": [
    "import pandas as pd"
   ]
  },
  {
   "cell_type": "code",
   "execution_count": 93,
   "id": "2906e674",
   "metadata": {
    "pycharm": {
     "name": "#%%\n"
    },
    "scrolled": true
   },
   "outputs": [],
   "source": [
    "df1 = pd.DataFrame({'leagueTitle':Title_list, 'date':Date_list, 'time':Time_list, 'gameState':gameState_list, 'gameTitle':gameTitle_list, 'homeTeam':homeTeamName_list, 'homeTeamScore':homeTeamScore_list, 'awayTeamScore':awayTeamScore_list, 'awayTeam':awayTeamName_list})"
   ]
  },
  {
   "cell_type": "code",
   "execution_count": 95,
   "id": "b95ce140",
   "metadata": {},
   "outputs": [
    {
     "data": {
      "text/html": [
       "<div>\n",
       "<style scoped>\n",
       "    .dataframe tbody tr th:only-of-type {\n",
       "        vertical-align: middle;\n",
       "    }\n",
       "\n",
       "    .dataframe tbody tr th {\n",
       "        vertical-align: top;\n",
       "    }\n",
       "\n",
       "    .dataframe thead th {\n",
       "        text-align: right;\n",
       "    }\n",
       "</style>\n",
       "<table border=\"1\" class=\"dataframe\">\n",
       "  <thead>\n",
       "    <tr style=\"text-align: right;\">\n",
       "      <th></th>\n",
       "      <th>leagueTitle</th>\n",
       "      <th>date</th>\n",
       "      <th>time</th>\n",
       "      <th>gameState</th>\n",
       "      <th>gameTitle</th>\n",
       "      <th>homeTeam</th>\n",
       "      <th>homeTeamScore</th>\n",
       "      <th>awayTeamScore</th>\n",
       "      <th>awayTeam</th>\n",
       "    </tr>\n",
       "  </thead>\n",
       "  <tbody>\n",
       "    <tr>\n",
       "      <th>0</th>\n",
       "      <td>리그 오브 레전드 월드 챔피언십</td>\n",
       "      <td>10월 01일 (토)</td>\n",
       "      <td>05:00</td>\n",
       "      <td>종료</td>\n",
       "      <td>플레이인</td>\n",
       "      <td>Fnatic</td>\n",
       "      <td>1</td>\n",
       "      <td>0</td>\n",
       "      <td>DetonatioN FocusMe</td>\n",
       "    </tr>\n",
       "    <tr>\n",
       "      <th>1</th>\n",
       "      <td>리그 오브 레전드 월드 챔피언십</td>\n",
       "      <td>10월 01일 (토)</td>\n",
       "      <td>06:00</td>\n",
       "      <td>종료</td>\n",
       "      <td>플레이인</td>\n",
       "      <td>Evil Geniuses</td>\n",
       "      <td>1</td>\n",
       "      <td>0</td>\n",
       "      <td>LOUD</td>\n",
       "    </tr>\n",
       "    <tr>\n",
       "      <th>2</th>\n",
       "      <td>리그 오브 레전드 월드 챔피언십</td>\n",
       "      <td>10월 01일 (토)</td>\n",
       "      <td>07:00</td>\n",
       "      <td>종료</td>\n",
       "      <td>플레이인</td>\n",
       "      <td>Saigon Buffalo</td>\n",
       "      <td>1</td>\n",
       "      <td>0</td>\n",
       "      <td>Isurus Gaming</td>\n",
       "    </tr>\n",
       "    <tr>\n",
       "      <th>3</th>\n",
       "      <td>리그 오브 레전드 월드 챔피언십</td>\n",
       "      <td>10월 01일 (토)</td>\n",
       "      <td>08:00</td>\n",
       "      <td>종료</td>\n",
       "      <td>플레이인</td>\n",
       "      <td>DetonatioN FocusMe</td>\n",
       "      <td>1</td>\n",
       "      <td>0</td>\n",
       "      <td>Chiefs Esports Club</td>\n",
       "    </tr>\n",
       "    <tr>\n",
       "      <th>4</th>\n",
       "      <td>리그 오브 레전드 월드 챔피언십</td>\n",
       "      <td>10월 01일 (토)</td>\n",
       "      <td>09:00</td>\n",
       "      <td>종료</td>\n",
       "      <td>플레이인</td>\n",
       "      <td>Evil Geniuses</td>\n",
       "      <td>1</td>\n",
       "      <td>0</td>\n",
       "      <td>Beyond Gaming</td>\n",
       "    </tr>\n",
       "    <tr>\n",
       "      <th>...</th>\n",
       "      <td>...</td>\n",
       "      <td>...</td>\n",
       "      <td>...</td>\n",
       "      <td>...</td>\n",
       "      <td>...</td>\n",
       "      <td>...</td>\n",
       "      <td>...</td>\n",
       "      <td>...</td>\n",
       "      <td>...</td>\n",
       "    </tr>\n",
       "    <tr>\n",
       "      <th>80</th>\n",
       "      <td>리그 오브 레전드 월드 챔피언십</td>\n",
       "      <td>10월 22일 (토)</td>\n",
       "      <td>06:00</td>\n",
       "      <td>종료</td>\n",
       "      <td>8강</td>\n",
       "      <td>T1</td>\n",
       "      <td>3</td>\n",
       "      <td>0</td>\n",
       "      <td>Royal Never Give Up</td>\n",
       "    </tr>\n",
       "    <tr>\n",
       "      <th>81</th>\n",
       "      <td>리그 오브 레전드 월드 챔피언십</td>\n",
       "      <td>10월 23일 (일)</td>\n",
       "      <td>06:00</td>\n",
       "      <td>종료</td>\n",
       "      <td>8강</td>\n",
       "      <td>젠지</td>\n",
       "      <td>3</td>\n",
       "      <td>2</td>\n",
       "      <td>담원 기아</td>\n",
       "    </tr>\n",
       "    <tr>\n",
       "      <th>82</th>\n",
       "      <td>리그 오브 레전드 월드 챔피언십</td>\n",
       "      <td>10월 24일 (월)</td>\n",
       "      <td>06:00</td>\n",
       "      <td>종료</td>\n",
       "      <td>8강</td>\n",
       "      <td>DRX</td>\n",
       "      <td>3</td>\n",
       "      <td>2</td>\n",
       "      <td>Edward Gaming</td>\n",
       "    </tr>\n",
       "    <tr>\n",
       "      <th>83</th>\n",
       "      <td>리그 오브 레전드 월드 챔피언십</td>\n",
       "      <td>10월 30일 (일)</td>\n",
       "      <td>06:00</td>\n",
       "      <td>종료</td>\n",
       "      <td>4강</td>\n",
       "      <td>JD Gaming</td>\n",
       "      <td>1</td>\n",
       "      <td>3</td>\n",
       "      <td>T1</td>\n",
       "    </tr>\n",
       "    <tr>\n",
       "      <th>84</th>\n",
       "      <td>리그 오브 레전드 월드 챔피언십</td>\n",
       "      <td>10월 31일 (월)</td>\n",
       "      <td>06:00</td>\n",
       "      <td>종료</td>\n",
       "      <td>4강</td>\n",
       "      <td>젠지</td>\n",
       "      <td>1</td>\n",
       "      <td>3</td>\n",
       "      <td>DRX</td>\n",
       "    </tr>\n",
       "  </tbody>\n",
       "</table>\n",
       "<p>85 rows × 9 columns</p>\n",
       "</div>"
      ],
      "text/plain": [
       "          leagueTitle         date   time gameState gameTitle  \\\n",
       "0   리그 오브 레전드 월드 챔피언십  10월 01일 (토)  05:00        종료      플레이인   \n",
       "1   리그 오브 레전드 월드 챔피언십  10월 01일 (토)  06:00        종료      플레이인   \n",
       "2   리그 오브 레전드 월드 챔피언십  10월 01일 (토)  07:00        종료      플레이인   \n",
       "3   리그 오브 레전드 월드 챔피언십  10월 01일 (토)  08:00        종료      플레이인   \n",
       "4   리그 오브 레전드 월드 챔피언십  10월 01일 (토)  09:00        종료      플레이인   \n",
       "..                ...          ...    ...       ...       ...   \n",
       "80  리그 오브 레전드 월드 챔피언십  10월 22일 (토)  06:00        종료        8강   \n",
       "81  리그 오브 레전드 월드 챔피언십  10월 23일 (일)  06:00        종료        8강   \n",
       "82  리그 오브 레전드 월드 챔피언십  10월 24일 (월)  06:00        종료        8강   \n",
       "83  리그 오브 레전드 월드 챔피언십  10월 30일 (일)  06:00        종료        4강   \n",
       "84  리그 오브 레전드 월드 챔피언십  10월 31일 (월)  06:00        종료        4강   \n",
       "\n",
       "              homeTeam homeTeamScore awayTeamScore             awayTeam  \n",
       "0               Fnatic             1             0   DetonatioN FocusMe  \n",
       "1        Evil Geniuses             1             0                 LOUD  \n",
       "2       Saigon Buffalo             1             0        Isurus Gaming  \n",
       "3   DetonatioN FocusMe             1             0  Chiefs Esports Club  \n",
       "4        Evil Geniuses             1             0        Beyond Gaming  \n",
       "..                 ...           ...           ...                  ...  \n",
       "80                  T1             3             0  Royal Never Give Up  \n",
       "81                  젠지             3             2                담원 기아  \n",
       "82                 DRX             3             2        Edward Gaming  \n",
       "83           JD Gaming             1             3                   T1  \n",
       "84                  젠지             1             3                  DRX  \n",
       "\n",
       "[85 rows x 9 columns]"
      ]
     },
     "execution_count": 95,
     "metadata": {},
     "output_type": "execute_result"
    }
   ],
   "source": [
    "df1"
   ]
  },
  {
   "cell_type": "code",
   "execution_count": 94,
   "id": "f135934d",
   "metadata": {
    "pycharm": {
     "name": "#%%\n"
    }
   },
   "outputs": [],
   "source": [
    "df1.to_excel('2022_10_league_schedule.xlsx')"
   ]
  },
  {
   "cell_type": "code",
   "execution_count": null,
   "id": "6092aa43",
   "metadata": {
    "pycharm": {
     "name": "#%%\n"
    }
   },
   "outputs": [],
   "source": []
  }
 ],
 "metadata": {
  "kernelspec": {
   "display_name": "Python 3 (ipykernel)",
   "language": "python",
   "name": "python3"
  },
  "language_info": {
   "codemirror_mode": {
    "name": "ipython",
    "version": 3
   },
   "file_extension": ".py",
   "mimetype": "text/x-python",
   "name": "python",
   "nbconvert_exporter": "python",
   "pygments_lexer": "ipython3",
   "version": "3.9.12"
  }
 },
 "nbformat": 4,
 "nbformat_minor": 5
}
