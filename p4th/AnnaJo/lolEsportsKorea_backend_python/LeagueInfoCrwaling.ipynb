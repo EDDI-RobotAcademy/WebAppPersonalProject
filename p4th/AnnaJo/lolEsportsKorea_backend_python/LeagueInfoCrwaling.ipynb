{
 "cells": [
  {
   "cell_type": "code",
   "execution_count": 1,
   "id": "24061836",
   "metadata": {
    "pycharm": {
     "name": "#%%\n"
    }
   },
   "outputs": [],
   "source": [
    "import selenium\n",
    "from selenium import webdriver\n",
    "from selenium.webdriver.common.by import By"
   ]
  },
  {
   "cell_type": "code",
   "execution_count": 2,
   "id": "9eb98a10",
   "metadata": {
    "pycharm": {
     "name": "#%%\n"
    }
   },
   "outputs": [
    {
     "name": "stderr",
     "output_type": "stream",
     "text": [
      "C:\\Users\\user\\AppData\\Local\\Temp\\ipykernel_12664\\1523096556.py:1: DeprecationWarning: executable_path has been deprecated, please pass in a Service object\n",
      "  driver = webdriver.Chrome(r\"C:\\chromedriver.exe\")\n"
     ]
    }
   ],
   "source": [
    "driver = webdriver.Chrome(r\"C:\\chromedriver.exe\")\n",
    "driver.get('https://game.naver.com/esports/League_of_Legends/schedule/world_championship?date=2022-10')"
   ]
  },
  {
   "cell_type": "code",
   "execution_count": 3,
   "id": "6f0f9abb",
   "metadata": {
    "pycharm": {
     "name": "#%%\n"
    }
   },
   "outputs": [
    {
     "name": "stdout",
     "output_type": "stream",
     "text": [
      "리그 오브 레전드 월드 챔피언십\n",
      "2022\n"
     ]
    }
   ],
   "source": [
    "leagueTitle = driver.find_element(By.XPATH,r'//*[@id=\"civ\"]/div/div/div/div[2]/div[2]/div[1]/div[2]/div/strong/span').text\n",
    "print(leagueTitle)\n",
    "leagueYear =driver.find_element(By.XPATH,r'//*[@id=\"civ\"]/div/div/div/div[2]/div[2]/div[1]/div[2]/div/div/div/div/strong').text\n",
    "print(leagueYear)"
   ]
  },
  {
   "cell_type": "code",
   "execution_count": 4,
   "id": "94603467",
   "metadata": {
    "pycharm": {
     "name": "#%%\n"
    }
   },
   "outputs": [],
   "source": [
    "# first date line : //*[@id=\"civ\"]/div/div/div/div[2]/div[2]/div[3]/div[2]/div\n",
    "# last date line : //*[@id=\"civ\"]/div/div/div/div[2]/div[2]/div[3]/div[20]/div"
   ]
  },
  {
   "cell_type": "code",
   "execution_count": 11,
   "id": "a1fa31e0",
   "metadata": {
    "pycharm": {
     "name": "#%%\n"
    }
   },
   "outputs": [],
   "source": [
    "import re\n",
    "\n",
    "monthlyDay_list = []\n",
    "\n",
    "for i in range(2,21):\n",
    "    date = driver.find_element(By.XPATH,r'//*[@id=\"civ\"]/div/div/div/div[2]/div[2]/div[3]/div['+str(i)+']/div').text\n",
    "    leagueDate = re.findall(r'\\d+', date)\n",
    "    monthlyDay_list.append(leagueDate)\n",
    "    \n",
    "    \n",
    "    "
   ]
  },
  {
   "cell_type": "code",
   "execution_count": 12,
   "id": "b6939d59",
   "metadata": {
    "pycharm": {
     "name": "#%%\n"
    }
   },
   "outputs": [
    {
     "data": {
      "text/plain": [
       "[['10', '01'],\n",
       " ['10', '02'],\n",
       " ['10', '03'],\n",
       " ['10', '04'],\n",
       " ['10', '05'],\n",
       " ['10', '08'],\n",
       " ['10', '09'],\n",
       " ['10', '10'],\n",
       " ['10', '11'],\n",
       " ['10', '14'],\n",
       " ['10', '15'],\n",
       " ['10', '16'],\n",
       " ['10', '17'],\n",
       " ['10', '21'],\n",
       " ['10', '22'],\n",
       " ['10', '23'],\n",
       " ['10', '24'],\n",
       " ['10', '30'],\n",
       " ['10', '31']]"
      ]
     },
     "execution_count": 12,
     "metadata": {},
     "output_type": "execute_result"
    }
   ],
   "source": [
    "monthlyDay_list"
   ]
  },
  {
   "cell_type": "code",
   "execution_count": 24,
   "id": "c935b9da",
   "metadata": {},
   "outputs": [
    {
     "name": "stdout",
     "output_type": "stream",
     "text": [
      "['2022-10-01', '2022-10-02', '2022-10-03', '2022-10-04', '2022-10-05', '2022-10-08', '2022-10-09', '2022-10-10', '2022-10-11', '2022-10-14', '2022-10-15', '2022-10-16', '2022-10-17', '2022-10-21', '2022-10-22', '2022-10-23', '2022-10-24', '2022-10-30', '2022-10-31']\n"
     ]
    }
   ],
   "source": [
    "leagueDate_list = []\n",
    "\n",
    "for i in range(len(monthlyDay_list)):\n",
    "    result = leagueYear + \"-\" + monthlyDay_list[0][0] + \"-\"+ monthlyDay_list[i][1]\n",
    "    leagueDate_list.append(result)\n",
    "\n",
    "print(leagueDate_list)"
   ]
  },
  {
   "cell_type": "code",
   "execution_count": 25,
   "id": "75b43720",
   "metadata": {
    "pycharm": {
     "name": "#%%\n"
    }
   },
   "outputs": [],
   "source": [
    "# first block Xpath : //*[@id=\"civ\"]/div/div/div/div[2]/div[2]/div[3]/div[2]/ul\n",
    "# last block  Xpath : //*[@id=\"civ\"]/div/div/div/div[2]/div[2]/div[3]/div[20]/ul"
   ]
  },
  {
   "cell_type": "code",
   "execution_count": 26,
   "id": "f37e1d31",
   "metadata": {
    "pycharm": {
     "name": "#%%\n"
    },
    "scrolled": true
   },
   "outputs": [
    {
     "name": "stdout",
     "output_type": "stream",
     "text": [
      "['리그 오브 레전드 월드 챔피언십', '2022-10-01', '05:00', '종료', '플레이인', 'Fnatic', '1', '0', 'DetonatioN FocusMe', '리그 오브 레전드 월드 챔피언십', '2022-10-01', '', '06:00', '종료', '플레이인', 'Evil Geniuses', '1', '0', 'LOUD', '리그 오브 레전드 월드 챔피언십', '2022-10-01', '', '07:00', '종료', '플레이인', 'Saigon Buffalo', '1', '0', 'Isurus Gaming', '리그 오브 레전드 월드 챔피언십', '2022-10-01', '', '08:00', '종료', '플레이인', 'DetonatioN FocusMe', '1', '0', 'Chiefs Esports Club', '리그 오브 레전드 월드 챔피언십', '2022-10-01', '', '09:00', '종료', '플레이인', 'Evil Geniuses', '1', '0', 'Beyond Gaming', '리그 오브 레전드 월드 챔피언십', '2022-10-01', '', '10:00', '종료', '플레이인', 'DRX', '1', '0', 'Saigon Buffalo', '리그 오브 레전드 월드 챔피언십', '2022-10-01', '', '11:00', '종료', '플레이인', 'MAD Lions', '0', '1', 'Royal Never Give Up', '리그 오브 레전드 월드 챔피언십', '2022-10-01', '', '12:00', '종료', '플레이인', 'istanbul Wildcats', '0', '1', 'DRX', '리그 오브 레전드 월드 챔피언십', '2022-10-02', '05:00', '종료', '플레이인', 'LOUD', '1', '0', 'Fnatic', '리그 오브 레전드 월드 챔피언십', '2022-10-02', '', '06:00', '종료', '플레이인', 'MAD Lions', '1', '0', 'Saigon Buffalo', '리그 오브 레전드 월드 챔피언십', '2022-10-02', '', '07:00', '종료', '플레이인', 'Beyond Gaming', '0', '1', 'DetonatioN FocusMe', '리그 오브 레전드 월드 챔피언십', '2022-10-02', '', '08:00', '종료', '플레이인', 'Evil Geniuses', '1', '0', 'Chiefs Esports Club', '리그 오브 레전드 월드 챔피언십', '2022-10-02', '', '09:00', '종료', '플레이인', 'Royal Never Give Up', '1', '0', 'Isurus Gaming', '리그 오브 레전드 월드 챔피언십', '2022-10-02', '', '10:00', '종료', '플레이인', 'Chiefs Esports Club', '0', '1', 'Beyond Gaming', '리그 오브 레전드 월드 챔피언십', '2022-10-02', '', '11:00', '종료', '플레이인', 'Royal Never Give Up', '1', '0', 'istanbul Wildcats', '리그 오브 레전드 월드 챔피언십', '2022-10-02', '', '12:00', '종료', '플레이인', 'Isurus Gaming', '0', '1', 'DRX', '리그 오브 레전드 월드 챔피언십', '2022-10-03', '05:00', '종료', '플레이인', 'Beyond Gaming', '0', '1', 'Fnatic', '리그 오브 레전드 월드 챔피언십', '2022-10-03', '', '06:00', '종료', '플레이인', 'LOUD', '1', '0', 'Chiefs Esports Club', '리그 오브 레전드 월드 챔피언십', '2022-10-03', '', '07:00', '종료', '플레이인', 'DetonatioN FocusMe', '1', '0', 'Evil Geniuses', '리그 오브 레전드 월드 챔피언십', '2022-10-03', '', '08:00', '종료', '플레이인', 'istanbul Wildcats', '0', '1', 'Isurus Gaming', '리그 오브 레전드 월드 챔피언십', '2022-10-03', '', '09:00', '종료', '플레이인', 'DRX', '1', '0', 'MAD Lions', '리그 오브 레전드 월드 챔피언십', '2022-10-03', '', '10:00', '종료', '플레이인', 'Royal Never Give Up', '1', '0', 'Saigon Buffalo', '리그 오브 레전드 월드 챔피언십', '2022-10-03', '', '11:00', '종료', '타이브레이커', 'Evil Geniuses', '1', '0', 'DetonatioN FocusMe', '리그 오브 레전드 월드 챔피언십', '2022-10-03', '', '12:00', '종료', '타이브레이커', 'LOUD', '0', '1', 'Evil Geniuses', '리그 오브 레전드 월드 챔피언십', '2022-10-04', '03:00', '종료', '플레이인 녹아웃', 'Saigon Buffalo', '1', '3', 'MAD Lions', '리그 오브 레전드 월드 챔피언십', '2022-10-04', '', '08:00', '종료', '플레이인 녹아웃', 'LOUD', '1', '3', 'DetonatioN FocusMe', '리그 오브 레전드 월드 챔피언십', '2022-10-05', '03:00', '종료', '플레이인 녹아웃', 'Evil Geniuses', '3', '0', 'MAD Lions', '리그 오브 레전드 월드 챔피언십', '2022-10-05', '', '08:00', '종료', '플레이인 녹아웃', 'Royal Never Give Up', '3', '1', 'DetonatioN FocusMe', '리그 오브 레전드 월드 챔피언십', '2022-10-08', '06:00', '종료', '그룹스테이지', 'Cloud9', '0', '1', 'Fnatic', '리그 오브 레전드 월드 챔피언십', '2022-10-08', '', '07:00', '종료', '그룹스테이지', 'G2 Esports', '0', '1', '담원 기아', '리그 오브 레전드 월드 챔피언십', '2022-10-08', '', '08:00', '종료', '그룹스테이지', 'CTBC Flying Oyster', '1', '0', '100 Thieves', '리그 오브 레전드 월드 챔피언십', '2022-10-08', '', '09:00', '종료', '그룹스테이지', 'JD Gaming', '1', '0', 'Evil Geniuses', '리그 오브 레전드 월드 챔피언십', '2022-10-08', '', '10:00', '종료', '그룹스테이지', 'T1', '1', '0', 'Edward Gaming', '리그 오브 레전드 월드 챔피언십', '2022-10-08', '', '11:00', '종료', '그룹스테이지', '젠지', '0', '1', 'Royal Never Give Up', '리그 오브 레전드 월드 챔피언십', '2022-10-09', '06:00', '종료', '그룹스테이지', 'Rogue', '1', '0', 'DRX', '리그 오브 레전드 월드 챔피언십', '2022-10-09', '', '07:00', '종료', '그룹스테이지', 'Evil Geniuses', '0', '1', 'G2 Esports', '리그 오브 레전드 월드 챔피언십', '2022-10-09', '', '08:00', '종료', '그룹스테이지', 'Fnatic', '1', '0', 'T1', '리그 오브 레전드 월드 챔피언십', '2022-10-09', '', '09:00', '종료', '그룹스테이지', 'Edward Gaming', '1', '0', 'Cloud9', '리그 오브 레전드 월드 챔피언십', '2022-10-09', '', '10:00', '종료', '그룹스테이지', 'Top Esports', '1', '0', 'GAM eSports', '리그 오브 레전드 월드 챔피언십', '2022-10-09', '', '11:00', '종료', '그룹스테이지', '담원 기아', '0', '1', 'JD Gaming', '리그 오브 레전드 월드 챔피언십', '2022-10-10', '06:00', '종료', '그룹스테이지', 'GAM eSports', '0', '1', 'Rogue', '리그 오브 레전드 월드 챔피언십', '2022-10-10', '', '07:00', '종료', '그룹스테이지', '100 Thieves', '0', '1', '젠지', '리그 오브 레전드 월드 챔피언십', '2022-10-10', '', '08:00', '종료', '그룹스테이지', 'Edward Gaming', '1', '0', 'Fnatic', '리그 오브 레전드 월드 챔피언십', '2022-10-10', '', '09:00', '종료', '그룹스테이지', 'Cloud9', '0', '1', 'T1', '리그 오브 레전드 월드 챔피언십', '2022-10-10', '', '10:00', '종료', '그룹스테이지', 'Royal Never Give Up', '1', '0', 'CTBC Flying Oyster', '리그 오브 레전드 월드 챔피언십', '2022-10-10', '', '11:00', '종료', '그룹스테이지', 'DRX', '1', '0', 'Top Esports', '리그 오브 레전드 월드 챔피언십', '2022-10-11', '06:00', '종료', '그룹스테이지', 'JD Gaming', '1', '0', 'G2 Esports', '리그 오브 레전드 월드 챔피언십', '2022-10-11', '', '07:00', '종료', '그룹스테이지', 'Rogue', '1', '0', 'Top Esports', '리그 오브 레전드 월드 챔피언십', '2022-10-11', '', '08:00', '종료', '그룹스테이지', '담원 기아', '1', '0', 'Evil Geniuses', '리그 오브 레전드 월드 챔피언십', '2022-10-11', '', '09:00', '종료', '그룹스테이지', '100 Thieves', '0', '1', 'Royal Never Give Up', '리그 오브 레전드 월드 챔피언십', '2022-10-11', '', '10:00', '종료', '그룹스테이지', '젠지', '1', '0', 'CTBC Flying Oyster', '리그 오브 레전드 월드 챔피언십', '2022-10-11', '', '11:00', '종료', '그룹스테이지', 'GAM eSports', '0', '1', 'DRX', '리그 오브 레전드 월드 챔피언십', '2022-10-14', '04:00', '종료', '그룹스테이지', 'Fnatic', '0', '1', 'Cloud9', '리그 오브 레전드 월드 챔피언십', '2022-10-14', '', '05:00', '종료', '그룹스테이지', 'T1', '1', '0', 'Fnatic', '리그 오브 레전드 월드 챔피언십', '2022-10-14', '', '06:00', '종료', '그룹스테이지', 'Cloud9', '0', '1', 'Edward Gaming', '리그 오브 레전드 월드 챔피언십', '2022-10-14', '', '07:00', '종료', '그룹스테이지', 'Fnatic', '0', '1', 'Edward Gaming', '리그 오브 레전드 월드 챔피언십', '2022-10-14', '', '08:00', '종료', '그룹스테이지', 'T1', '1', '0', 'Cloud9', '리그 오브 레전드 월드 챔피언십', '2022-10-14', '', '09:00', '종료', '그룹스테이지', 'Edward Gaming', '0', '1', 'T1', '리그 오브 레전드 월드 챔피언십', '2022-10-15', '04:00', '종료', '그룹스테이지', 'G2 Esports', '0', '1', 'Evil Geniuses', '리그 오브 레전드 월드 챔피언십', '2022-10-15', '', '05:00', '종료', '그룹스테이지', 'Evil Geniuses', '0', '1', 'JD Gaming', '리그 오브 레전드 월드 챔피언십', '2022-10-15', '', '06:00', '종료', '그룹스테이지', '담원 기아', '1', '0', 'G2 Esports', '리그 오브 레전드 월드 챔피언십', '2022-10-15', '', '07:00', '종료', '그룹스테이지', 'G2 Esports', '0', '1', 'JD Gaming', '리그 오브 레전드 월드 챔피언십', '2022-10-15', '', '08:00', '종료', '그룹스테이지', 'Evil Geniuses', '0', '1', '담원 기아', '리그 오브 레전드 월드 챔피언십', '2022-10-15', '', '09:00', '종료', '그룹스테이지', 'JD Gaming', '0', '1', '담원 기아', '리그 오브 레전드 월드 챔피언십', '2022-10-15', '', '10:00', '종료', '타이브레이커', '담원 기아', '0', '1', 'JD Gaming', '리그 오브 레전드 월드 챔피언십', '2022-10-16', '04:00', '종료', '그룹스테이지', 'Rogue', '1', '0', 'GAM eSports', '리그 오브 레전드 월드 챔피언십', '2022-10-16', '', '05:00', '종료', '그룹스테이지', 'GAM eSports', '1', '0', 'Top Esports', '리그 오브 레전드 월드 챔피언십', '2022-10-16', '', '06:00', '종료', '그룹스테이지', 'DRX', '1', '0', 'Rogue', '리그 오브 레전드 월드 챔피언십', '2022-10-16', '', '07:00', '종료', '그룹스테이지', 'DRX', '1', '0', 'GAM eSports', '리그 오브 레전드 월드 챔피언십', '2022-10-16', '', '08:00', '종료', '그룹스테이지', 'Top Esports', '1', '0', 'Rogue', '리그 오브 레전드 월드 챔피언십', '2022-10-16', '', '09:00', '종료', '그룹스테이지', 'Top Esports', '1', '0', 'DRX', '리그 오브 레전드 월드 챔피언십', '2022-10-16', '', '10:00', '종료', '타이브레이커', 'DRX', '1', '0', 'Rogue', '리그 오브 레전드 월드 챔피언십', '2022-10-17', '04:00', '종료', '그룹스테이지', '100 Thieves', '1', '0', 'CTBC Flying Oyster', '리그 오브 레전드 월드 챔피언십', '2022-10-17', '', '05:00', '종료', '그룹스테이지', 'CTBC Flying Oyster', '0', '1', '젠지', '리그 오브 레전드 월드 챔피언십', '2022-10-17', '', '06:00', '종료', '그룹스테이지', 'Royal Never Give Up', '1', '0', '100 Thieves', '리그 오브 레전드 월드 챔피언십', '2022-10-17', '', '07:00', '종료', '그룹스테이지', '젠지', '1', '0', '100 Thieves', '리그 오브 레전드 월드 챔피언십', '2022-10-17', '', '08:00', '종료', '그룹스테이지', 'CTBC Flying Oyster', '0', '1', 'Royal Never Give Up', '리그 오브 레전드 월드 챔피언십', '2022-10-17', '', '09:00', '종료', '그룹스테이지', 'Royal Never Give Up', '0', '1', '젠지', '리그 오브 레전드 월드 챔피언십', '2022-10-17', '', '10:00', '종료', '타이브레이커', '젠지', '1', '0', 'Royal Never Give Up', '리그 오브 레전드 월드 챔피언십', '2022-10-21', '06:00', '종료', '8강', 'JD Gaming', '3', '0', 'Rogue', '리그 오브 레전드 월드 챔피언십', '2022-10-22', '06:00', '종료', '8강', 'T1', '3', '0', 'Royal Never Give Up', '리그 오브 레전드 월드 챔피언십', '2022-10-23', '06:00', '종료', '8강', '젠지', '3', '2', '담원 기아', '리그 오브 레전드 월드 챔피언십', '2022-10-24', '06:00', '종료', '8강', 'DRX', '3', '2', 'Edward Gaming', '리그 오브 레전드 월드 챔피언십', '2022-10-30', '06:00', '종료', '4강', 'JD Gaming', '1', '3', 'T1', '리그 오브 레전드 월드 챔피언십', '2022-10-31', '06:00', '종료', '4강', '젠지', '1', '3', 'DRX']\n"
     ]
    }
   ],
   "source": [
    "leagueInfoBolck_list = []\n",
    "leagueInfoLine_list = []\n",
    "finalLeagueInfoLine_list = []\n",
    "\n",
    "# 날짜로 묶인 info block 저장 / i는 19개 (0~19)\n",
    "for i in range(2,21):\n",
    "    leagueInfo = driver.find_element(By.XPATH,r'//*[@id=\"civ\"]/div/div/div/div[2]/div[2]/div[3]/div['+str(i)+']/ul').text\n",
    "        \n",
    "    if leagueInfo == 'null':\n",
    "        break\n",
    "    \n",
    "    leagueInfoBolck_list.append(leagueInfo.split(\"\\n다시보기\"))\n",
    "    # 0번째에선 일정 8개 [[],[],[],[],[],[],[],[]], -> 마지막에 ''담겨서 +1됨\n",
    "    # print(len(leagueInfoBolck_list[i-2]))\n",
    "\n",
    "    # 비어있는 인덱스 제거하고 새로운 리스트에 담기 \n",
    "    for j in range(len(leagueInfoBolck_list[i-2])):\n",
    "        # 저장 후에 leagueInfoLine_list 비워주기\n",
    "        leagueInfoLine_list.clear()\n",
    "        \n",
    "        # block 빈 값 \n",
    "        if leagueInfoBolck_list[i-2][j] == '' :\n",
    "            break\n",
    "            \n",
    "        leagueInfoLine_list.append(leagueTitle)\n",
    "        leagueInfoLine_list.append(leagueDate_list[i-2])\n",
    "        splitResult = leagueInfoBolck_list[i-2][j]\n",
    "        leagueInfoLine_list.extend(splitResult.split(\"\\n\"))\n",
    "        finalLeagueInfoLine_list.extend(leagueInfoLine_list)\n",
    "        #print(leagueInfoLine_list)\n",
    "         \n",
    "print(finalLeagueInfoLine_list)"
   ]
  },
  {
   "cell_type": "code",
   "execution_count": 37,
   "id": "de9689a1",
   "metadata": {
    "pycharm": {
     "name": "#%%\n"
    },
    "scrolled": true
   },
   "outputs": [
    {
     "name": "stdout",
     "output_type": "stream",
     "text": [
      "['리그 오브 레전드 월드 챔피언십', '리그 오브 레전드 월드 챔피언십', '리그 오브 레전드 월드 챔피언십', '리그 오브 레전드 월드 챔피언십', '리그 오브 레전드 월드 챔피언십', '리그 오브 레전드 월드 챔피언십', '리그 오브 레전드 월드 챔피언십', '리그 오브 레전드 월드 챔피언십', '리그 오브 레전드 월드 챔피언십', '리그 오브 레전드 월드 챔피언십', '리그 오브 레전드 월드 챔피언십', '리그 오브 레전드 월드 챔피언십', '리그 오브 레전드 월드 챔피언십', '리그 오브 레전드 월드 챔피언십', '리그 오브 레전드 월드 챔피언십', '리그 오브 레전드 월드 챔피언십', '리그 오브 레전드 월드 챔피언십', '리그 오브 레전드 월드 챔피언십', '리그 오브 레전드 월드 챔피언십', '리그 오브 레전드 월드 챔피언십', '리그 오브 레전드 월드 챔피언십', '리그 오브 레전드 월드 챔피언십', '리그 오브 레전드 월드 챔피언십', '리그 오브 레전드 월드 챔피언십', '리그 오브 레전드 월드 챔피언십', '리그 오브 레전드 월드 챔피언십', '리그 오브 레전드 월드 챔피언십', '리그 오브 레전드 월드 챔피언십', '리그 오브 레전드 월드 챔피언십', '리그 오브 레전드 월드 챔피언십', '리그 오브 레전드 월드 챔피언십', '리그 오브 레전드 월드 챔피언십', '리그 오브 레전드 월드 챔피언십', '리그 오브 레전드 월드 챔피언십', '리그 오브 레전드 월드 챔피언십', '리그 오브 레전드 월드 챔피언십', '리그 오브 레전드 월드 챔피언십', '리그 오브 레전드 월드 챔피언십', '리그 오브 레전드 월드 챔피언십', '리그 오브 레전드 월드 챔피언십', '리그 오브 레전드 월드 챔피언십', '리그 오브 레전드 월드 챔피언십', '리그 오브 레전드 월드 챔피언십', '리그 오브 레전드 월드 챔피언십', '리그 오브 레전드 월드 챔피언십', '리그 오브 레전드 월드 챔피언십', '리그 오브 레전드 월드 챔피언십', '리그 오브 레전드 월드 챔피언십', '리그 오브 레전드 월드 챔피언십', '리그 오브 레전드 월드 챔피언십', '리그 오브 레전드 월드 챔피언십', '리그 오브 레전드 월드 챔피언십', '리그 오브 레전드 월드 챔피언십', '리그 오브 레전드 월드 챔피언십', '리그 오브 레전드 월드 챔피언십', '리그 오브 레전드 월드 챔피언십', '리그 오브 레전드 월드 챔피언십', '리그 오브 레전드 월드 챔피언십', '리그 오브 레전드 월드 챔피언십', '리그 오브 레전드 월드 챔피언십', '리그 오브 레전드 월드 챔피언십', '리그 오브 레전드 월드 챔피언십', '리그 오브 레전드 월드 챔피언십', '리그 오브 레전드 월드 챔피언십', '리그 오브 레전드 월드 챔피언십', '리그 오브 레전드 월드 챔피언십', '리그 오브 레전드 월드 챔피언십', '리그 오브 레전드 월드 챔피언십', '리그 오브 레전드 월드 챔피언십', '리그 오브 레전드 월드 챔피언십', '리그 오브 레전드 월드 챔피언십', '리그 오브 레전드 월드 챔피언십', '리그 오브 레전드 월드 챔피언십', '리그 오브 레전드 월드 챔피언십', '리그 오브 레전드 월드 챔피언십', '리그 오브 레전드 월드 챔피언십', '리그 오브 레전드 월드 챔피언십', '리그 오브 레전드 월드 챔피언십', '리그 오브 레전드 월드 챔피언십', '리그 오브 레전드 월드 챔피언십', '리그 오브 레전드 월드 챔피언십', '리그 오브 레전드 월드 챔피언십', '리그 오브 레전드 월드 챔피언십', '리그 오브 레전드 월드 챔피언십', '리그 오브 레전드 월드 챔피언십']\n",
      "['2022-10-01', '2022-10-01', '2022-10-01', '2022-10-01', '2022-10-01', '2022-10-01', '2022-10-01', '2022-10-01', '2022-10-02', '2022-10-02', '2022-10-02', '2022-10-02', '2022-10-02', '2022-10-02', '2022-10-02', '2022-10-02', '2022-10-03', '2022-10-03', '2022-10-03', '2022-10-03', '2022-10-03', '2022-10-03', '2022-10-03', '2022-10-03', '2022-10-04', '2022-10-04', '2022-10-05', '2022-10-05', '2022-10-08', '2022-10-08', '2022-10-08', '2022-10-08', '2022-10-08', '2022-10-08', '2022-10-09', '2022-10-09', '2022-10-09', '2022-10-09', '2022-10-09', '2022-10-09', '2022-10-10', '2022-10-10', '2022-10-10', '2022-10-10', '2022-10-10', '2022-10-10', '2022-10-11', '2022-10-11', '2022-10-11', '2022-10-11', '2022-10-11', '2022-10-11', '2022-10-14', '2022-10-14', '2022-10-14', '2022-10-14', '2022-10-14', '2022-10-14', '2022-10-15', '2022-10-15', '2022-10-15', '2022-10-15', '2022-10-15', '2022-10-15', '2022-10-15', '2022-10-16', '2022-10-16', '2022-10-16', '2022-10-16', '2022-10-16', '2022-10-16', '2022-10-16', '2022-10-17', '2022-10-17', '2022-10-17', '2022-10-17', '2022-10-17', '2022-10-17', '2022-10-17', '2022-10-21', '2022-10-22', '2022-10-23', '2022-10-24', '2022-10-30', '2022-10-31']\n",
      "['05:00', '06:00', '07:00', '08:00', '09:00', '10:00', '11:00', '12:00', '05:00', '06:00', '07:00', '08:00', '09:00', '10:00', '11:00', '12:00', '05:00', '06:00', '07:00', '08:00', '09:00', '10:00', '11:00', '12:00', '03:00', '08:00', '03:00', '08:00', '06:00', '07:00', '08:00', '09:00', '10:00', '11:00', '06:00', '07:00', '08:00', '09:00', '10:00', '11:00', '06:00', '07:00', '08:00', '09:00', '10:00', '11:00', '06:00', '07:00', '08:00', '09:00', '10:00', '11:00', '04:00', '05:00', '06:00', '07:00', '08:00', '09:00', '04:00', '05:00', '06:00', '07:00', '08:00', '09:00', '10:00', '04:00', '05:00', '06:00', '07:00', '08:00', '09:00', '10:00', '04:00', '05:00', '06:00', '07:00', '08:00', '09:00', '10:00', '06:00', '06:00', '06:00', '06:00', '06:00', '06:00']\n",
      "['종료', '종료', '종료', '종료', '종료', '종료', '종료', '종료', '종료', '종료', '종료', '종료', '종료', '종료', '종료', '종료', '종료', '종료', '종료', '종료', '종료', '종료', '종료', '종료', '종료', '종료', '종료', '종료', '종료', '종료', '종료', '종료', '종료', '종료', '종료', '종료', '종료', '종료', '종료', '종료', '종료', '종료', '종료', '종료', '종료', '종료', '종료', '종료', '종료', '종료', '종료', '종료', '종료', '종료', '종료', '종료', '종료', '종료', '종료', '종료', '종료', '종료', '종료', '종료', '종료', '종료', '종료', '종료', '종료', '종료', '종료', '종료', '종료', '종료', '종료', '종료', '종료', '종료', '종료', '종료', '종료', '종료', '종료', '종료', '종료']\n",
      "['플레이인', '플레이인', '플레이인', '플레이인', '플레이인', '플레이인', '플레이인', '플레이인', '플레이인', '플레이인', '플레이인', '플레이인', '플레이인', '플레이인', '플레이인', '플레이인', '플레이인', '플레이인', '플레이인', '플레이인', '플레이인', '플레이인', '타이브레이커', '타이브레이커', '플레이인 녹아웃', '플레이인 녹아웃', '플레이인 녹아웃', '플레이인 녹아웃', '그룹스테이지', '그룹스테이지', '그룹스테이지', '그룹스테이지', '그룹스테이지', '그룹스테이지', '그룹스테이지', '그룹스테이지', '그룹스테이지', '그룹스테이지', '그룹스테이지', '그룹스테이지', '그룹스테이지', '그룹스테이지', '그룹스테이지', '그룹스테이지', '그룹스테이지', '그룹스테이지', '그룹스테이지', '그룹스테이지', '그룹스테이지', '그룹스테이지', '그룹스테이지', '그룹스테이지', '그룹스테이지', '그룹스테이지', '그룹스테이지', '그룹스테이지', '그룹스테이지', '그룹스테이지', '그룹스테이지', '그룹스테이지', '그룹스테이지', '그룹스테이지', '그룹스테이지', '그룹스테이지', '타이브레이커', '그룹스테이지', '그룹스테이지', '그룹스테이지', '그룹스테이지', '그룹스테이지', '그룹스테이지', '타이브레이커', '그룹스테이지', '그룹스테이지', '그룹스테이지', '그룹스테이지', '그룹스테이지', '그룹스테이지', '타이브레이커', '8강', '8강', '8강', '8강', '4강', '4강']\n",
      "['Fnatic', 'Evil Geniuses', 'Saigon Buffalo', 'DetonatioN FocusMe', 'Evil Geniuses', 'DRX', 'MAD Lions', 'istanbul Wildcats', 'LOUD', 'MAD Lions', 'Beyond Gaming', 'Evil Geniuses', 'Royal Never Give Up', 'Chiefs Esports Club', 'Royal Never Give Up', 'Isurus Gaming', 'Beyond Gaming', 'LOUD', 'DetonatioN FocusMe', 'istanbul Wildcats', 'DRX', 'Royal Never Give Up', 'Evil Geniuses', 'LOUD', 'Saigon Buffalo', 'LOUD', 'Evil Geniuses', 'Royal Never Give Up', 'Cloud9', 'G2 Esports', 'CTBC Flying Oyster', 'JD Gaming', 'T1', '젠지', 'Rogue', 'Evil Geniuses', 'Fnatic', 'Edward Gaming', 'Top Esports', '담원 기아', 'GAM eSports', '100 Thieves', 'Edward Gaming', 'Cloud9', 'Royal Never Give Up', 'DRX', 'JD Gaming', 'Rogue', '담원 기아', '100 Thieves', '젠지', 'GAM eSports', 'Fnatic', 'T1', 'Cloud9', 'Fnatic', 'T1', 'Edward Gaming', 'G2 Esports', 'Evil Geniuses', '담원 기아', 'G2 Esports', 'Evil Geniuses', 'JD Gaming', '담원 기아', 'Rogue', 'GAM eSports', 'DRX', 'DRX', 'Top Esports', 'Top Esports', 'DRX', '100 Thieves', 'CTBC Flying Oyster', 'Royal Never Give Up', '젠지', 'CTBC Flying Oyster', 'Royal Never Give Up', '젠지', 'JD Gaming', 'T1', '젠지', 'DRX', 'JD Gaming', '젠지']\n",
      "['1', '1', '1', '1', '1', '1', '0', '0', '1', '1', '0', '1', '1', '0', '1', '0', '0', '1', '1', '0', '1', '1', '1', '0', '1', '1', '3', '3', '0', '0', '1', '1', '1', '0', '1', '0', '1', '1', '1', '0', '0', '0', '1', '0', '1', '1', '1', '1', '1', '0', '1', '0', '0', '1', '0', '0', '1', '0', '0', '0', '1', '0', '0', '0', '0', '1', '1', '1', '1', '1', '1', '1', '1', '0', '1', '1', '0', '0', '1', '3', '3', '3', '3', '1', '1']\n",
      "['0', '0', '0', '0', '0', '0', '1', '1', '0', '0', '1', '0', '0', '1', '0', '1', '1', '0', '0', '1', '0', '0', '0', '1', '3', '3', '0', '1', '1', '1', '0', '0', '0', '1', '0', '1', '0', '0', '0', '1', '1', '1', '0', '1', '0', '0', '0', '0', '0', '1', '0', '1', '1', '0', '1', '1', '0', '1', '1', '1', '0', '1', '1', '1', '1', '0', '0', '0', '0', '0', '0', '0', '0', '1', '0', '0', '1', '1', '0', '0', '0', '2', '2', '3', '3']\n",
      "['DetonatioN FocusMe', 'LOUD', 'Isurus Gaming', 'Chiefs Esports Club', 'Beyond Gaming', 'Saigon Buffalo', 'Royal Never Give Up', 'DRX', 'Fnatic', 'Saigon Buffalo', 'DetonatioN FocusMe', 'Chiefs Esports Club', 'Isurus Gaming', 'Beyond Gaming', 'istanbul Wildcats', 'DRX', 'Fnatic', 'Chiefs Esports Club', 'Evil Geniuses', 'Isurus Gaming', 'MAD Lions', 'Saigon Buffalo', 'DetonatioN FocusMe', 'Evil Geniuses', 'MAD Lions', 'DetonatioN FocusMe', 'MAD Lions', 'DetonatioN FocusMe', 'Fnatic', '담원 기아', '100 Thieves', 'Evil Geniuses', 'Edward Gaming', 'Royal Never Give Up', 'DRX', 'G2 Esports', 'T1', 'Cloud9', 'GAM eSports', 'JD Gaming', 'Rogue', '젠지', 'Fnatic', 'T1', 'CTBC Flying Oyster', 'Top Esports', 'G2 Esports', 'Top Esports', 'Evil Geniuses', 'Royal Never Give Up', 'CTBC Flying Oyster', 'DRX', 'Cloud9', 'Fnatic', 'Edward Gaming', 'Edward Gaming', 'Cloud9', 'T1', 'Evil Geniuses', 'JD Gaming', 'G2 Esports', 'JD Gaming', '담원 기아', '담원 기아', 'JD Gaming', 'GAM eSports', 'Top Esports', 'Rogue', 'GAM eSports', 'Rogue', 'DRX', 'Rogue', 'CTBC Flying Oyster', '젠지', '100 Thieves', '100 Thieves', 'Royal Never Give Up', '젠지', 'Royal Never Give Up', 'Rogue', 'Royal Never Give Up', '담원 기아', 'Edward Gaming', 'T1', 'DRX']\n"
     ]
    }
   ],
   "source": [
    "title_list = []\n",
    "date_list = []\n",
    "time_list = []\n",
    "gameState_list = []\n",
    "gameTitle_list = []\n",
    "homeTeamName_list = []\n",
    "homeTeamScore_list = []\n",
    "awayTeamScore_list = []\n",
    "awayTeamName_list = []\n",
    "\n",
    "listLength = len(finalLeagueInfoLine_list)\n",
    "\n",
    "for i in range(len(finalLeagueInfoLine_list)):\n",
    "    \n",
    "    ## '' 공백 들어가있는 것 제거\n",
    "    if finalLeagueInfoLine_list[i] == '':\n",
    "        finalLeagueInfoLine_list.pop(i)   \n",
    "        \n",
    "for i in range(0, listLength, 9):\n",
    "    title_list.append(finalLeagueInfoLine_list[i])\n",
    "    \n",
    "for i in range(1, listLength, 9):\n",
    "    date_list.append(finalLeagueInfoLine_list[i])\n",
    "    \n",
    "for i in range(2, listLength, 9):\n",
    "    time_list.append(finalLeagueInfoLine_list[i])    \n",
    "\n",
    "for i in range(3, listLength, 9):\n",
    "    gameState_list.append(finalLeagueInfoLine_list[i])  \n",
    "    \n",
    "for i in range(4,listLength, 9):\n",
    "    gameTitle_list.append(finalLeagueInfoLine_list[i])      \n",
    "        \n",
    "for i in range(5,listLength, 9):\n",
    "    homeTeamName_list.append(finalLeagueInfoLine_list[i])  \n",
    "        \n",
    "for i in range(6, listLength, 9):\n",
    "    homeTeamScore_list.append(finalLeagueInfoLine_list[i])      \n",
    "        \n",
    "for i in range(7, listLength, 9):\n",
    "    awayTeamScore_list.append(finalLeagueInfoLine_list[i])   \n",
    "        \n",
    "for i in range(8, listLength, 9):\n",
    "    awayTeamName_list.append(finalLeagueInfoLine_list[i])  \n",
    "    \n",
    "print(title_list)\n",
    "print(date_list)\n",
    "print(time_list)\n",
    "print(gameState_list)\n",
    "print(gameTitle_list)\n",
    "print(homeTeamName_list)\n",
    "print(homeTeamScore_list)\n",
    "print(awayTeamScore_list)\n",
    "print(awayTeamName_list)"
   ]
  },
  {
   "cell_type": "code",
   "execution_count": 38,
   "id": "d9935316",
   "metadata": {
    "pycharm": {
     "name": "#%%\n"
    }
   },
   "outputs": [],
   "source": [
    "import pandas as pd"
   ]
  },
  {
   "cell_type": "code",
   "execution_count": 39,
   "id": "2906e674",
   "metadata": {
    "pycharm": {
     "name": "#%%\n"
    },
    "scrolled": true
   },
   "outputs": [],
   "source": [
    "leaguedata = pd.DataFrame({'league_title':title_list, 'date':date_list, 'time':time_list, 'game_state':gameState_list, 'game_title':gameTitle_list, 'home_team':homeTeamName_list, 'home_team_score':homeTeamScore_list, 'away_team_score':awayTeamScore_list, 'away_team':awayTeamName_list})"
   ]
  },
  {
   "cell_type": "code",
   "execution_count": 40,
   "id": "e4e0dbf2",
   "metadata": {
    "pycharm": {
     "name": "#%%\n"
    }
   },
   "outputs": [
    {
     "data": {
      "text/html": [
       "<div>\n",
       "<style scoped>\n",
       "    .dataframe tbody tr th:only-of-type {\n",
       "        vertical-align: middle;\n",
       "    }\n",
       "\n",
       "    .dataframe tbody tr th {\n",
       "        vertical-align: top;\n",
       "    }\n",
       "\n",
       "    .dataframe thead th {\n",
       "        text-align: right;\n",
       "    }\n",
       "</style>\n",
       "<table border=\"1\" class=\"dataframe\">\n",
       "  <thead>\n",
       "    <tr style=\"text-align: right;\">\n",
       "      <th></th>\n",
       "      <th>league_title</th>\n",
       "      <th>date</th>\n",
       "      <th>time</th>\n",
       "      <th>game_state</th>\n",
       "      <th>game_title</th>\n",
       "      <th>home_team</th>\n",
       "      <th>home_team_score</th>\n",
       "      <th>away_team_score</th>\n",
       "      <th>away_team</th>\n",
       "    </tr>\n",
       "  </thead>\n",
       "  <tbody>\n",
       "    <tr>\n",
       "      <th>0</th>\n",
       "      <td>리그 오브 레전드 월드 챔피언십</td>\n",
       "      <td>2022-10-01</td>\n",
       "      <td>05:00</td>\n",
       "      <td>종료</td>\n",
       "      <td>플레이인</td>\n",
       "      <td>Fnatic</td>\n",
       "      <td>1</td>\n",
       "      <td>0</td>\n",
       "      <td>DetonatioN FocusMe</td>\n",
       "    </tr>\n",
       "    <tr>\n",
       "      <th>1</th>\n",
       "      <td>리그 오브 레전드 월드 챔피언십</td>\n",
       "      <td>2022-10-01</td>\n",
       "      <td>06:00</td>\n",
       "      <td>종료</td>\n",
       "      <td>플레이인</td>\n",
       "      <td>Evil Geniuses</td>\n",
       "      <td>1</td>\n",
       "      <td>0</td>\n",
       "      <td>LOUD</td>\n",
       "    </tr>\n",
       "    <tr>\n",
       "      <th>2</th>\n",
       "      <td>리그 오브 레전드 월드 챔피언십</td>\n",
       "      <td>2022-10-01</td>\n",
       "      <td>07:00</td>\n",
       "      <td>종료</td>\n",
       "      <td>플레이인</td>\n",
       "      <td>Saigon Buffalo</td>\n",
       "      <td>1</td>\n",
       "      <td>0</td>\n",
       "      <td>Isurus Gaming</td>\n",
       "    </tr>\n",
       "    <tr>\n",
       "      <th>3</th>\n",
       "      <td>리그 오브 레전드 월드 챔피언십</td>\n",
       "      <td>2022-10-01</td>\n",
       "      <td>08:00</td>\n",
       "      <td>종료</td>\n",
       "      <td>플레이인</td>\n",
       "      <td>DetonatioN FocusMe</td>\n",
       "      <td>1</td>\n",
       "      <td>0</td>\n",
       "      <td>Chiefs Esports Club</td>\n",
       "    </tr>\n",
       "    <tr>\n",
       "      <th>4</th>\n",
       "      <td>리그 오브 레전드 월드 챔피언십</td>\n",
       "      <td>2022-10-01</td>\n",
       "      <td>09:00</td>\n",
       "      <td>종료</td>\n",
       "      <td>플레이인</td>\n",
       "      <td>Evil Geniuses</td>\n",
       "      <td>1</td>\n",
       "      <td>0</td>\n",
       "      <td>Beyond Gaming</td>\n",
       "    </tr>\n",
       "    <tr>\n",
       "      <th>...</th>\n",
       "      <td>...</td>\n",
       "      <td>...</td>\n",
       "      <td>...</td>\n",
       "      <td>...</td>\n",
       "      <td>...</td>\n",
       "      <td>...</td>\n",
       "      <td>...</td>\n",
       "      <td>...</td>\n",
       "      <td>...</td>\n",
       "    </tr>\n",
       "    <tr>\n",
       "      <th>80</th>\n",
       "      <td>리그 오브 레전드 월드 챔피언십</td>\n",
       "      <td>2022-10-22</td>\n",
       "      <td>06:00</td>\n",
       "      <td>종료</td>\n",
       "      <td>8강</td>\n",
       "      <td>T1</td>\n",
       "      <td>3</td>\n",
       "      <td>0</td>\n",
       "      <td>Royal Never Give Up</td>\n",
       "    </tr>\n",
       "    <tr>\n",
       "      <th>81</th>\n",
       "      <td>리그 오브 레전드 월드 챔피언십</td>\n",
       "      <td>2022-10-23</td>\n",
       "      <td>06:00</td>\n",
       "      <td>종료</td>\n",
       "      <td>8강</td>\n",
       "      <td>젠지</td>\n",
       "      <td>3</td>\n",
       "      <td>2</td>\n",
       "      <td>담원 기아</td>\n",
       "    </tr>\n",
       "    <tr>\n",
       "      <th>82</th>\n",
       "      <td>리그 오브 레전드 월드 챔피언십</td>\n",
       "      <td>2022-10-24</td>\n",
       "      <td>06:00</td>\n",
       "      <td>종료</td>\n",
       "      <td>8강</td>\n",
       "      <td>DRX</td>\n",
       "      <td>3</td>\n",
       "      <td>2</td>\n",
       "      <td>Edward Gaming</td>\n",
       "    </tr>\n",
       "    <tr>\n",
       "      <th>83</th>\n",
       "      <td>리그 오브 레전드 월드 챔피언십</td>\n",
       "      <td>2022-10-30</td>\n",
       "      <td>06:00</td>\n",
       "      <td>종료</td>\n",
       "      <td>4강</td>\n",
       "      <td>JD Gaming</td>\n",
       "      <td>1</td>\n",
       "      <td>3</td>\n",
       "      <td>T1</td>\n",
       "    </tr>\n",
       "    <tr>\n",
       "      <th>84</th>\n",
       "      <td>리그 오브 레전드 월드 챔피언십</td>\n",
       "      <td>2022-10-31</td>\n",
       "      <td>06:00</td>\n",
       "      <td>종료</td>\n",
       "      <td>4강</td>\n",
       "      <td>젠지</td>\n",
       "      <td>1</td>\n",
       "      <td>3</td>\n",
       "      <td>DRX</td>\n",
       "    </tr>\n",
       "  </tbody>\n",
       "</table>\n",
       "<p>85 rows × 9 columns</p>\n",
       "</div>"
      ],
      "text/plain": [
       "         league_title        date   time game_state game_title  \\\n",
       "0   리그 오브 레전드 월드 챔피언십  2022-10-01  05:00         종료       플레이인   \n",
       "1   리그 오브 레전드 월드 챔피언십  2022-10-01  06:00         종료       플레이인   \n",
       "2   리그 오브 레전드 월드 챔피언십  2022-10-01  07:00         종료       플레이인   \n",
       "3   리그 오브 레전드 월드 챔피언십  2022-10-01  08:00         종료       플레이인   \n",
       "4   리그 오브 레전드 월드 챔피언십  2022-10-01  09:00         종료       플레이인   \n",
       "..                ...         ...    ...        ...        ...   \n",
       "80  리그 오브 레전드 월드 챔피언십  2022-10-22  06:00         종료         8강   \n",
       "81  리그 오브 레전드 월드 챔피언십  2022-10-23  06:00         종료         8강   \n",
       "82  리그 오브 레전드 월드 챔피언십  2022-10-24  06:00         종료         8강   \n",
       "83  리그 오브 레전드 월드 챔피언십  2022-10-30  06:00         종료         4강   \n",
       "84  리그 오브 레전드 월드 챔피언십  2022-10-31  06:00         종료         4강   \n",
       "\n",
       "             home_team home_team_score away_team_score            away_team  \n",
       "0               Fnatic               1               0   DetonatioN FocusMe  \n",
       "1        Evil Geniuses               1               0                 LOUD  \n",
       "2       Saigon Buffalo               1               0        Isurus Gaming  \n",
       "3   DetonatioN FocusMe               1               0  Chiefs Esports Club  \n",
       "4        Evil Geniuses               1               0        Beyond Gaming  \n",
       "..                 ...             ...             ...                  ...  \n",
       "80                  T1               3               0  Royal Never Give Up  \n",
       "81                  젠지               3               2                담원 기아  \n",
       "82                 DRX               3               2        Edward Gaming  \n",
       "83           JD Gaming               1               3                   T1  \n",
       "84                  젠지               1               3                  DRX  \n",
       "\n",
       "[85 rows x 9 columns]"
      ]
     },
     "execution_count": 40,
     "metadata": {},
     "output_type": "execute_result"
    }
   ],
   "source": [
    "leaguedata"
   ]
  },
  {
   "cell_type": "code",
   "execution_count": 41,
   "id": "f135934d",
   "metadata": {
    "pycharm": {
     "name": "#%%\n"
    }
   },
   "outputs": [],
   "source": [
    "leaguedata.to_csv('2022_10_league_schedule.csv')"
   ]
  },
  {
   "cell_type": "code",
   "execution_count": null,
   "id": "6092aa43",
   "metadata": {
    "pycharm": {
     "name": "#%%\n"
    }
   },
   "outputs": [],
   "source": []
  }
 ],
 "metadata": {
  "kernelspec": {
   "display_name": "Python 3 (ipykernel)",
   "language": "python",
   "name": "python3"
  },
  "language_info": {
   "codemirror_mode": {
    "name": "ipython",
    "version": 3
   },
   "file_extension": ".py",
   "mimetype": "text/x-python",
   "name": "python",
   "nbconvert_exporter": "python",
   "pygments_lexer": "ipython3",
   "version": "3.9.12"
  }
 },
 "nbformat": 4,
 "nbformat_minor": 5
}
